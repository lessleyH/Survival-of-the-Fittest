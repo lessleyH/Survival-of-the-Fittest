{
 "cells": [
  {
   "cell_type": "code",
   "execution_count": 1,
   "metadata": {
    "id": "1VbAjxPxE3Mz"
   },
   "outputs": [],
   "source": [
    "%matplotlib inline\n",
    "import time\n",
    "import numpy as np\n",
    "import random\n",
    "import matplotlib.pyplot as plt\n",
    "from IPython.display import display, clear_output"
   ]
  },
  {
   "cell_type": "code",
   "execution_count": 2,
   "metadata": {
    "id": "9GhIaLZJHtAY"
   },
   "outputs": [],
   "source": [
    "n,m = 30,30\n",
    "e = 0.3\n",
    "c_0 = 30\n",
    "c_1 = 20\n",
    "q_0 = 1\n",
    "q_1 = 0.4\n",
    "mu = 0.5\n",
    "\n",
    "class Grid():\n",
    "    def __init__(self):\n",
    "        self.pheremones = np.zeros((n,m),dtype=float)\n",
    "        self.food = np.zeros((n,m),dtype=int)\n",
    "        # self.home = (random.randint(0,n),random.randint(0,m))\n",
    "        self.home = (10, 20)\n",
    "\n",
    "        self.food[5:15, 5:15] = 3\n",
    "    \n",
    "    def evaporate(self):\n",
    "      self.pheremones -= e*self.pheremones\n",
    "      self.pheremones = np.maximum(np.zeros_like(self.pheremones), self.pheremones)"
   ]
  },
  {
   "cell_type": "code",
   "execution_count": 3,
   "metadata": {
    "id": "tTxtEshlH6zd"
   },
   "outputs": [],
   "source": [
    "class Ant():\n",
    "    def __init__(self, loc):\n",
    "        \"\"\"Inicialize ant with start location and home location\"\"\"\n",
    "        self.loc = loc\n",
    "        self.home = loc\n",
    "        self.dir = (1, 0)\n",
    "        self.hasfood = False\n",
    "    \n",
    "    def plot(self):\n",
    "        \"\"\"Puts down a dot for this ant. Red means it has food,\n",
    "        green means it does not\"\"\"\n",
    "        if self.hasfood:\n",
    "            color = 'red'\n",
    "        else:\n",
    "            color = 'green'\n",
    "        plt.scatter(self.loc[1], self.loc[0], color=color)\n",
    "\n",
    "    def move(self, grid):\n",
    "        \"\"\"Move ant:\n",
    "                Home: if has food\n",
    "                Away From Home: If it smells something\n",
    "        \"\"\"\n",
    "        # Calculate move probability\n",
    "        l0 = max(0, min(self.loc[0]-self.dir[1], grid.pheremones.shape[0]-1))\n",
    "        l1 = max(0, min(grid.pheremones.shape[0]-1, self.loc[1]+self.dir[0]))\n",
    "        r0 = max(0, min(grid.pheremones.shape[0]-1, self.loc[0]+self.dir[1]))\n",
    "        r1 = max(0, min(grid.pheremones.shape[0]-1, self.loc[1]-self.dir[0]))\n",
    "        f0 = min(grid.pheremones.shape[0]-1, max(0, self.loc[0]+self.dir[0]))\n",
    "        f1 = max(0, min(grid.pheremones.shape[0]-1, self.loc[1]-self.dir[1]))\n",
    "\n",
    "        # left = grid.pheremones[self.loc[0]-self.dir[1], self.loc[1]+self.dir[0]]\n",
    "        # right = grid.pheremones[self.loc[0]+self.dir[1], self.loc[1]-self.dir[0]]\n",
    "        # front = grid.pheremones[self.loc[0]+self.dir[0], self.loc[1]-self.dir[1]]\n",
    "        left = grid.pheremones[l0, l1]\n",
    "        right = grid.pheremones[r0, r1]\n",
    "        front = grid.pheremones[f0, f1]\n",
    "        p_m = 0.5 * (1 + np.tanh((left + right + front)/0.5 - 1))\n",
    "\n",
    "        if np.random.choice(2,1,p=[1-p_m,p_m]):\n",
    "          c = (mu + left)**2 + (mu + right)**2 + (mu + front)**2\n",
    "          p_left = 1/c * (mu + left)**2\n",
    "          p_right = 1/c * (mu + right)**2\n",
    "          p_front = 1 - p_left - p_right\n",
    "\n",
    "          left_loc = (self.loc[0]-self.dir[1], self.loc[1]+self.dir[0])\n",
    "          right_loc = (self.loc[0]+self.dir[1], self.loc[1]-self.dir[0])\n",
    "          front_loc = (self.loc[0]+self.dir[0], self.loc[1]-self.dir[1])\n",
    "\n",
    "          # Update location\n",
    "          next_loc = np.random.choice([\"left_loc\",\"right_loc\",\"front_loc\"],1,p=[p_left,p_right,p_front])\n",
    "          if next_loc == \"left_loc\":\n",
    "            self.loc = left_loc\n",
    "          elif next_loc == \"right_loc\":\n",
    "            self.loc = right_loc\n",
    "          else:\n",
    "            self.loc = front_loc\n",
    "\n",
    "          # if 0 <= next_loc[0] < self.pheremones.size()[1] and 0 <= next_loc[1] < self.pheremones.size()[0]:\n",
    "            # self.loc = next_loc\n",
    "            \n",
    "        # Drop the food if we made it home\n",
    "        if self.loc == self.home:\n",
    "            self.hasfood = False\n"
   ]
  },
  {
   "cell_type": "code",
   "execution_count": 4,
   "metadata": {
    "id": "BI5mou-GJE40"
   },
   "outputs": [],
   "source": [
    "class Anthill():\n",
    "    \"\"\"Class designating the anthill which contains ants.\"\"\"\n",
    "    Ants = []\n",
    "    grid = np.array(1)\n",
    "\n",
    "    def __init__(self, food='', numants=100):\n",
    "        \"\"\"Initialize anthill with either a food aray and number of ants.\"\"\"\n",
    "        self.grid = Grid()\n",
    "        for _ in range(numants):\n",
    "            self.Ants.append(Ant(self.grid.home))\n",
    "\n",
    "    def simulate(self, iterations=1):\n",
    "        \"\"\"Run the simulation an input number of iterations (default 1)\"\"\"\n",
    "        worldshape = self.grid.food.shape\n",
    "        fig, _ = plt.subplots(figsize=(10, 20))\n",
    "        for _ in range(iterations):\n",
    "\n",
    "            for ant in self.Ants:\n",
    "              old_dir = ant.loc\n",
    "              ant.move(self.grid)\n",
    "              if ant.loc[0] < 0:\n",
    "                  ant.loc = (0, ant.loc[1])\n",
    "              if ant.loc[0] == worldshape[0]:\n",
    "                  ant.loc = (worldshape[0]-1, ant.loc[1])\n",
    "              if ant.loc[1] < 0:\n",
    "                  ant.loc = (ant.loc[0], 0)\n",
    "              if ant.loc[1] == worldshape[1]:\n",
    "                  ant.loc = (ant.loc[0], worldshape[1]-1)\n",
    "              \n",
    "              # Update dir\n",
    "              # ant.dir = (ant.loc[0]-old_dir[0], ant.loc[1]-old_dir[1])\n",
    "\n",
    "              # Get food if reaches food souce and ant has no food\n",
    "              if self.grid.food[ant.loc[0], ant.loc[1]] > 0:\n",
    "                if not ant.hasfood:\n",
    "                    self.grid.food[ant.loc[0], ant.loc[1]] -= 1\n",
    "                    ant.dir = (ant.dir[0]*-1, ant.dir[1]*-1) # Flips direction\n",
    "                    ant.hasfood = True\n",
    "              \n",
    "              # Deposit pheremone at new location\n",
    "              if ant.hasfood:\n",
    "                if self.grid.pheremones[ant.loc[0], ant.loc[1]] < c_1:\n",
    "                  self.grid.pheremones[ant.loc[0], ant.loc[1]] += q_1\n",
    "              else:\n",
    "                if self.grid.pheremones[ant.loc[0], ant.loc[1]] < c_0:\n",
    "                  self.grid.pheremones[ant.loc[0], ant.loc[1]] += q_0\n",
    "              \n",
    "              # Evaporate pheremone\n",
    "              self.grid.evaporate()\n",
    "\n",
    "            self.show()\n",
    "\n",
    "            # Animaiton part\n",
    "            clear_output(wait=True) # Clear output for dynamic display\n",
    "            display(fig)            # Reset display\n",
    "            fig.clear()             # Prevent overlapping and layered plots\n",
    "            time.sleep(0.0001)      # Sleep to allow animation to catch up\n",
    "            \n",
    "    def show(self):\n",
    "        \"Show the location of the food and the Ants\"\n",
    "        plt.imshow(self.grid.food)\n",
    "        plt.scatter(self.grid.home[1], self.grid.home[0], color='blue')\n",
    "        for ant in self.Ants:\n",
    "            ant.plot()"
   ]
  },
  {
   "cell_type": "code",
   "execution_count": null,
   "metadata": {
    "colab": {
     "base_uri": "https://localhost:8080/",
     "height": 1000
    },
    "id": "NbF_ho0HMZ3a",
    "outputId": "5d880f3c-39b8-4b87-8286-fe640f67d0fb"
   },
   "outputs": [
    {
     "data": {
      "image/png": "[encoded data removed]",
      "text/plain": [
       "<Figure size 720x1440 with 1 Axes>"
      ]
     },
     "metadata": {},
     "output_type": "display_data"
    }
   ],
   "source": [
    "hill = Anthill()\n",
    "hill.simulate(1000)"
   ]
  },
  {
   "cell_type": "code",
   "execution_count": null,
   "metadata": {},
   "outputs": [],
   "source": []
  }
 ],
 "metadata": {
  "colab": {
   "collapsed_sections": [],
   "name": "project-demo.ipynb",
   "provenance": []
  },
  "kernelspec": {
   "display_name": "Python 3",
   "language": "python",
   "name": "python3"
  },
  "language_info": {
   "codemirror_mode": {
    "name": "ipython",
    "version": 3
   },
   "file_extension": ".py",
   "mimetype": "text/x-python",
   "name": "python",
   "nbconvert_exporter": "python",
   "pygments_lexer": "ipython3",
   "version": "3.7.0"
  }
 },
 "nbformat": 4,
 "nbformat_minor": 1
}
